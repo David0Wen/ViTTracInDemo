{
 "cells": [
  {
   "cell_type": "code",
   "execution_count": 1,
   "id": "db3fdd01",
   "metadata": {},
   "outputs": [
    {
     "name": "stdout",
     "output_type": "stream",
     "text": [
      "cuda:0\n"
     ]
    }
   ],
   "source": [
    "import torch\n",
    "import torchvision\n",
    "from torch import nn\n",
    "import time\n",
    "import torch\n",
    "import torch.nn.functional as F\n",
    "from torch import optim\n",
    "from torch import nn\n",
    "from einops import rearrange\n",
    "\n",
    "import numpy as np\n",
    "import matplotlib.pyplot as plt\n",
    "device = torch.device(\"cuda:0\" if torch.cuda.is_available() else \"cpu\")\n",
    "print(device)"
   ]
  },
  {
   "cell_type": "code",
   "execution_count": 2,
   "id": "724d8d3a",
   "metadata": {},
   "outputs": [],
   "source": [
    "#残差模块，放在每个前馈网络和注意力之后\n",
    "class Residual(nn.Module):\n",
    "    def __init__(self, fn):\n",
    "        super().__init__()\n",
    "        self.fn = fn\n",
    "\n",
    "    def forward(self, x, **kwargs):\n",
    "        return self.fn(x, **kwargs) + x\n",
    "\n",
    "#layernorm归一化,放在多头注意力层和激活函数层。用绝对位置编码的BERT，layernorm用来自身通道归一化\n",
    "class PreNorm(nn.Module):\n",
    "    def __init__(self, dim, fn):\n",
    "        super().__init__()\n",
    "        self.norm = nn.LayerNorm(dim)\n",
    "        self.fn = fn\n",
    "\n",
    "    def forward(self, x, **kwargs):\n",
    "        return self.fn(self.norm(x), **kwargs)\n",
    "#放置多头注意力后，因为在于多头注意力使用的矩阵乘法为线性变换，后面跟上由全连接网络构成的FeedForward增加非线性结构\n",
    "class FeedForward(nn.Module):\n",
    "    def __init__(self, dim, hidden_dim):\n",
    "        super().__init__()\n",
    "        self.net = nn.Sequential(\n",
    "            nn.Linear(dim, hidden_dim),\n",
    "            nn.GELU(),\n",
    "            nn.Linear(hidden_dim, dim)\n",
    "        )\n",
    "\n",
    "    def forward(self, x):\n",
    "        return self.net(x)\n",
    "#多头注意力层，多个自注意力连起来。使用qkv计算\n",
    "class Attention(nn.Module):\n",
    "    def __init__(self, dim, heads=8):\n",
    "        super().__init__()\n",
    "        self.heads = heads\n",
    "        self.scale = dim ** -0.5\n",
    "\n",
    "        self.to_qkv = nn.Linear(dim, dim * 3, bias=False)\n",
    "        self.to_out = nn.Linear(dim, dim)\n",
    "\n",
    "    def forward(self, x, mask = None):\n",
    "        b, n, _, h = *x.shape, self.heads\n",
    "        qkv = self.to_qkv(x)\n",
    "        q, k, v = rearrange(qkv, 'b n (qkv h d) -> qkv b h n d', qkv=3, h=h)\n",
    "\n",
    "        dots = torch.einsum('bhid,bhjd->bhij', q, k) * self.scale\n",
    "\n",
    "        if mask is not None:\n",
    "            mask = F.pad(mask.flatten(1), (1, 0), value = True)\n",
    "            assert mask.shape[-1] == dots.shape[-1], 'mask has incorrect dimensions'\n",
    "            mask = mask[:, None, :] * mask[:, :, None]\n",
    "            dots.masked_fill_(~mask, float('-inf'))\n",
    "            del mask\n",
    "\n",
    "        attn = dots.softmax(dim=-1)\n",
    "\n",
    "        out = torch.einsum('bhij,bhjd->bhid', attn, v)\n",
    "        out = rearrange(out, 'b h n d -> b n (h d)')\n",
    "        out =  self.to_out(out)\n",
    "        return out"
   ]
  },
  {
   "cell_type": "code",
   "execution_count": 3,
   "id": "95476804",
   "metadata": {},
   "outputs": [],
   "source": [
    "class Transformer(nn.Module):\n",
    "    def __init__(self, dim, depth, heads, mlp_dim):\n",
    "        super().__init__()\n",
    "        self.layers = nn.ModuleList([])\n",
    "        for _ in range(depth):\n",
    "            self.layers.append(nn.ModuleList([\n",
    "                Residual(PreNorm(dim, Attention(dim, heads = heads))),\n",
    "                Residual(PreNorm(dim, FeedForward(dim, mlp_dim)))\n",
    "            ]))\n",
    "\n",
    "    def forward(self, x, mask=None):\n",
    "        for attn, ff in self.layers:\n",
    "            x = attn(x, mask=mask)\n",
    "            x = ff(x)\n",
    "        return x\n",
    "#将图像切割成一个个图像块,组成序列化的数据输入Transformer执行图像分类任务。\n",
    "class ViT(nn.Module):\n",
    "    def __init__(self, *, image_size, patch_size, num_classes, dim, depth, heads, mlp_dim, channels=3):\n",
    "        super().__init__()\n",
    "        assert image_size % patch_size == 0, 'image dimensions must be divisible by the patch size'\n",
    "        num_patches = (image_size // patch_size) ** 2\n",
    "        patch_dim = channels * patch_size ** 2\n",
    "\n",
    "        self.patch_size = patch_size\n",
    "\n",
    "        self.pos_embedding = nn.Parameter(torch.randn(1, num_patches + 1, dim))\n",
    "        self.patch_to_embedding = nn.Linear(patch_dim, dim)\n",
    "        self.cls_token = nn.Parameter(torch.randn(1, 1, dim))\n",
    "        self.transformer = Transformer(dim, depth, heads, mlp_dim)\n",
    "\n",
    "        self.to_cls_token = nn.Identity()\n",
    "\n",
    "        self.mlp_head = nn.Sequential(\n",
    "            nn.Linear(dim, mlp_dim),\n",
    "            nn.GELU(),\n",
    "            nn.Linear(mlp_dim, num_classes)\n",
    "        )\n",
    "\n",
    "    def forward(self, img, mask=None):\n",
    "        p = self.patch_size\n",
    "\n",
    "        x = rearrange(img, 'b c (h p1) (w p2) -> b (h w) (p1 p2 c)', p1 = p, p2 = p)\n",
    "        x = self.patch_to_embedding(x)\n",
    "\n",
    "        cls_tokens = self.cls_token.expand(img.shape[0], -1, -1)\n",
    "        x = torch.cat((cls_tokens, x), dim=1)\n",
    "        x += self.pos_embedding\n",
    "        x = self.transformer(x, mask)\n",
    "\n",
    "        x = self.to_cls_token(x[:, 0])\n",
    "        return self.mlp_head(x)\n",
    "\n"
   ]
  },
  {
   "cell_type": "code",
   "execution_count": 4,
   "id": "73c0ea72",
   "metadata": {},
   "outputs": [],
   "source": [
    "torch.manual_seed(42)\n",
    "\n",
    "DOWNLOAD_PATH = '/data/mnist'\n",
    "BATCH_SIZE_TRAIN = 100\n",
    "BATCH_SIZE_TEST = 1000"
   ]
  },
  {
   "cell_type": "code",
   "execution_count": 5,
   "id": "b21b90ca",
   "metadata": {},
   "outputs": [],
   "source": [
    "transform_mnist = torchvision.transforms.Compose([torchvision.transforms.ToTensor(),\n",
    "                               torchvision.transforms.Normalize((0.1307,), (0.3081,))])\n",
    "\n",
    "train_set = torchvision.datasets.MNIST(DOWNLOAD_PATH, train=True, download=True,\n",
    "                                       transform=transform_mnist)\n",
    "train_loader = torch.utils.data.DataLoader(train_set, batch_size=BATCH_SIZE_TRAIN, shuffle=True, num_workers=4)\n",
    "\n",
    "test_set = torchvision.datasets.MNIST(DOWNLOAD_PATH, train=False, download=True,\n",
    "                                      transform=transform_mnist)\n",
    "test_loader = torch.utils.data.DataLoader(test_set, batch_size=BATCH_SIZE_TEST, shuffle=True, num_workers=4)"
   ]
  },
  {
   "cell_type": "code",
   "execution_count": 6,
   "id": "2db17667",
   "metadata": {},
   "outputs": [],
   "source": [
    "def train_epoch(model, optimizer, data_loader, loss_history):\n",
    "    total_samples = len(data_loader.dataset)\n",
    "    model.train()\n",
    "\n",
    "    for i, (data, target) in enumerate(data_loader):\n",
    "        optimizer.zero_grad()\n",
    "        data, target = data.to(device), target.to(device)\n",
    "        output = F.log_softmax(model(data), dim=1)\n",
    "        loss = F.nll_loss(output, target)\n",
    "        loss.backward()\n",
    "        optimizer.step()\n",
    "\n",
    "        if i % 100 == 0:\n",
    "            print('[' +  '{:5}'.format(i * len(data)) + '/' + '{:5}'.format(total_samples) +\n",
    "                  ' (' + '{:3.0f}'.format(100 * i / len(data_loader)) + '%)]  Loss: ' +\n",
    "                  '{:6.4f}'.format(loss.item()))\n",
    "            loss_history.append(loss.item())\n",
    "\n",
    "\n",
    "def evaluate(model, data_loader, loss_history):\n",
    "    model.eval()\n",
    "\n",
    "    total_samples = len(data_loader.dataset)\n",
    "    correct_samples = 0\n",
    "    total_loss = 0\n",
    "\n",
    "    with torch.no_grad():\n",
    "        for data, target in data_loader:\n",
    "            data, target = data.to(device), target.to(device)\n",
    "            output = F.log_softmax(model(data), dim=1)\n",
    "            loss = F.nll_loss(output, target, reduction='sum')\n",
    "            _, pred = torch.max(output, dim=1)\n",
    "\n",
    "            total_loss += loss.item()\n",
    "            correct_samples += pred.eq(target).sum()\n",
    "\n",
    "    avg_loss = total_loss / total_samples\n",
    "    loss_history.append(avg_loss)\n",
    "    print('\\nAverage test loss: ' + '{:.4f}'.format(avg_loss) +\n",
    "          '  Accuracy:' + '{:5}'.format(correct_samples) + '/' +\n",
    "          '{:5}'.format(total_samples) + ' (' +\n",
    "          '{:4.2f}'.format(100.0 * correct_samples / total_samples) + '%)\\n')"
   ]
  },
  {
   "cell_type": "code",
   "execution_count": 7,
   "id": "5e867b86",
   "metadata": {},
   "outputs": [
    {
     "name": "stdout",
     "output_type": "stream",
     "text": [
      "Epoch: 1\n",
      "[    0/60000 (  0%)]  Loss: 2.3308\n",
      "[10000/60000 ( 17%)]  Loss: 0.5572\n",
      "[20000/60000 ( 33%)]  Loss: 0.3044\n",
      "[30000/60000 ( 50%)]  Loss: 0.1771\n",
      "[40000/60000 ( 67%)]  Loss: 0.1610\n",
      "[50000/60000 ( 83%)]  Loss: 0.0980\n",
      "\n",
      "Average test loss: 0.1432  Accuracy: 9537/10000 (95.37%)\n",
      "\n",
      "Epoch: 2\n",
      "[    0/60000 (  0%)]  Loss: 0.1393\n",
      "[10000/60000 ( 17%)]  Loss: 0.1459\n",
      "[20000/60000 ( 33%)]  Loss: 0.1031\n",
      "[30000/60000 ( 50%)]  Loss: 0.0899\n",
      "[40000/60000 ( 67%)]  Loss: 0.2304\n",
      "[50000/60000 ( 83%)]  Loss: 0.1841\n",
      "\n",
      "Average test loss: 0.1147  Accuracy: 9660/10000 (96.60%)\n",
      "\n",
      "Epoch: 3\n",
      "[    0/60000 (  0%)]  Loss: 0.0348\n",
      "[10000/60000 ( 17%)]  Loss: 0.2604\n",
      "[20000/60000 ( 33%)]  Loss: 0.1188\n",
      "[30000/60000 ( 50%)]  Loss: 0.2181\n",
      "[40000/60000 ( 67%)]  Loss: 0.1190\n",
      "[50000/60000 ( 83%)]  Loss: 0.1363\n",
      "\n",
      "Average test loss: 0.0989  Accuracy: 9705/10000 (97.05%)\n",
      "\n",
      "Epoch: 4\n",
      "[    0/60000 (  0%)]  Loss: 0.1159\n",
      "[10000/60000 ( 17%)]  Loss: 0.0699\n",
      "[20000/60000 ( 33%)]  Loss: 0.1349\n",
      "[30000/60000 ( 50%)]  Loss: 0.0736\n",
      "[40000/60000 ( 67%)]  Loss: 0.1683\n",
      "[50000/60000 ( 83%)]  Loss: 0.0552\n",
      "\n",
      "Average test loss: 0.0985  Accuracy: 9706/10000 (97.06%)\n",
      "\n",
      "Epoch: 5\n",
      "[    0/60000 (  0%)]  Loss: 0.0148\n",
      "[10000/60000 ( 17%)]  Loss: 0.1946\n",
      "[20000/60000 ( 33%)]  Loss: 0.0490\n",
      "[30000/60000 ( 50%)]  Loss: 0.0182\n",
      "[40000/60000 ( 67%)]  Loss: 0.0402\n",
      "[50000/60000 ( 83%)]  Loss: 0.1028\n",
      "\n",
      "Average test loss: 0.1042  Accuracy: 9686/10000 (96.86%)\n",
      "\n",
      "Epoch: 6\n",
      "[    0/60000 (  0%)]  Loss: 0.1817\n",
      "[10000/60000 ( 17%)]  Loss: 0.0925\n",
      "[20000/60000 ( 33%)]  Loss: 0.0768\n",
      "[30000/60000 ( 50%)]  Loss: 0.0465\n",
      "[40000/60000 ( 67%)]  Loss: 0.0241\n",
      "[50000/60000 ( 83%)]  Loss: 0.0975\n",
      "\n",
      "Average test loss: 0.0856  Accuracy: 9738/10000 (97.38%)\n",
      "\n",
      "Epoch: 7\n",
      "[    0/60000 (  0%)]  Loss: 0.0334\n",
      "[10000/60000 ( 17%)]  Loss: 0.0083\n",
      "[20000/60000 ( 33%)]  Loss: 0.0452\n",
      "[30000/60000 ( 50%)]  Loss: 0.0052\n",
      "[40000/60000 ( 67%)]  Loss: 0.0788\n",
      "[50000/60000 ( 83%)]  Loss: 0.1085\n",
      "\n",
      "Average test loss: 0.0938  Accuracy: 9746/10000 (97.46%)\n",
      "\n",
      "Epoch: 8\n",
      "[    0/60000 (  0%)]  Loss: 0.0401\n",
      "[10000/60000 ( 17%)]  Loss: 0.0673\n",
      "[20000/60000 ( 33%)]  Loss: 0.0660\n",
      "[30000/60000 ( 50%)]  Loss: 0.0490\n",
      "[40000/60000 ( 67%)]  Loss: 0.0143\n",
      "[50000/60000 ( 83%)]  Loss: 0.0264\n",
      "\n",
      "Average test loss: 0.0778  Accuracy: 9781/10000 (97.81%)\n",
      "\n",
      "Epoch: 9\n",
      "[    0/60000 (  0%)]  Loss: 0.0473\n",
      "[10000/60000 ( 17%)]  Loss: 0.0078\n",
      "[20000/60000 ( 33%)]  Loss: 0.0061\n",
      "[30000/60000 ( 50%)]  Loss: 0.0177\n",
      "[40000/60000 ( 67%)]  Loss: 0.1070\n",
      "[50000/60000 ( 83%)]  Loss: 0.0214\n",
      "\n",
      "Average test loss: 0.0845  Accuracy: 9774/10000 (97.74%)\n",
      "\n",
      "Epoch: 10\n",
      "[    0/60000 (  0%)]  Loss: 0.0324\n",
      "[10000/60000 ( 17%)]  Loss: 0.0061\n",
      "[20000/60000 ( 33%)]  Loss: 0.0597\n",
      "[30000/60000 ( 50%)]  Loss: 0.1241\n",
      "[40000/60000 ( 67%)]  Loss: 0.1267\n",
      "[50000/60000 ( 83%)]  Loss: 0.0347\n",
      "\n",
      "Average test loss: 0.0664  Accuracy: 9819/10000 (98.19%)\n",
      "\n",
      "Epoch: 11\n",
      "[    0/60000 (  0%)]  Loss: 0.0076\n",
      "[10000/60000 ( 17%)]  Loss: 0.0513\n",
      "[20000/60000 ( 33%)]  Loss: 0.0280\n",
      "[30000/60000 ( 50%)]  Loss: 0.0616\n",
      "[40000/60000 ( 67%)]  Loss: 0.0582\n",
      "[50000/60000 ( 83%)]  Loss: 0.0629\n",
      "\n",
      "Average test loss: 0.0930  Accuracy: 9776/10000 (97.76%)\n",
      "\n",
      "Epoch: 12\n",
      "[    0/60000 (  0%)]  Loss: 0.0450\n",
      "[10000/60000 ( 17%)]  Loss: 0.0200\n",
      "[20000/60000 ( 33%)]  Loss: 0.0186\n",
      "[30000/60000 ( 50%)]  Loss: 0.0064\n",
      "[40000/60000 ( 67%)]  Loss: 0.0419\n",
      "[50000/60000 ( 83%)]  Loss: 0.0514\n",
      "\n",
      "Average test loss: 0.0793  Accuracy: 9794/10000 (97.94%)\n",
      "\n",
      "Epoch: 13\n",
      "[    0/60000 (  0%)]  Loss: 0.0632\n",
      "[10000/60000 ( 17%)]  Loss: 0.0195\n",
      "[20000/60000 ( 33%)]  Loss: 0.0085\n",
      "[30000/60000 ( 50%)]  Loss: 0.0873\n",
      "[40000/60000 ( 67%)]  Loss: 0.0571\n",
      "[50000/60000 ( 83%)]  Loss: 0.0062\n",
      "\n",
      "Average test loss: 0.0776  Accuracy: 9794/10000 (97.94%)\n",
      "\n",
      "Epoch: 14\n",
      "[    0/60000 (  0%)]  Loss: 0.0472\n",
      "[10000/60000 ( 17%)]  Loss: 0.0023\n",
      "[20000/60000 ( 33%)]  Loss: 0.0388\n",
      "[30000/60000 ( 50%)]  Loss: 0.0051\n",
      "[40000/60000 ( 67%)]  Loss: 0.0686\n",
      "[50000/60000 ( 83%)]  Loss: 0.0602\n",
      "\n",
      "Average test loss: 0.0764  Accuracy: 9809/10000 (98.09%)\n",
      "\n",
      "Epoch: 15\n",
      "[    0/60000 (  0%)]  Loss: 0.0228\n",
      "[10000/60000 ( 17%)]  Loss: 0.0213\n",
      "[20000/60000 ( 33%)]  Loss: 0.0660\n",
      "[30000/60000 ( 50%)]  Loss: 0.0028\n",
      "[40000/60000 ( 67%)]  Loss: 0.0444\n",
      "[50000/60000 ( 83%)]  Loss: 0.0240\n",
      "\n",
      "Average test loss: 0.0639  Accuracy: 9828/10000 (98.28%)\n",
      "\n",
      "Execution time: 395.16 seconds\n"
     ]
    }
   ],
   "source": [
    "N_EPOCHS = 15\n",
    "\n",
    "start_time = time.time()\n",
    "'''\n",
    "patch大小为 7x7（对于 28x28 图像，这意味着每个图像 4 x 4 = 16 个patch）、10 个可能的目标类别（0 到 9）和 1 个颜色通道（因为图像是灰度）。\n",
    "在网络参数方面，使用了 64 个单元的维度，6 个 Transformer 块的深度，8 个 Transformer 头，MLP 使用 128 维度。'''\n",
    "model = ViT(image_size=28, patch_size=7, num_classes=10, channels=1,\n",
    "            dim=64, depth=6, heads=8, mlp_dim=128).to(device)\n",
    "optimizer = optim.Adam(model.parameters(), lr=0.003)\n",
    "\n",
    "weights = []\n",
    "\n",
    "train_loss_history, test_loss_history = [], []\n",
    "for epoch in range(1, N_EPOCHS + 1):\n",
    "    print('Epoch:', epoch)\n",
    "    train_epoch(model, optimizer, train_loader, train_loss_history)\n",
    "    evaluate(model, test_loader, test_loss_history)\n",
    "    if epoch % 3 == 0:\n",
    "        torch.save(model.state_dict(), f'ckpts\\model_v1_epoch_{epoch}')\n",
    "        weights.append(f'ckpts\\model_v1_epoch_{epoch}')\n",
    "\n",
    "print('Execution time:', '{:5.2f}'.format(time.time() - start_time), 'seconds')"
   ]
  },
  {
   "cell_type": "code",
   "execution_count": 8,
   "id": "063216d1",
   "metadata": {},
   "outputs": [],
   "source": [
    "weights = np.array(weights)\n",
    "np.save('weightpath.npy', weights)\n",
    "weights = weights.tolist()"
   ]
  },
  {
   "cell_type": "code",
   "execution_count": 9,
   "id": "dfbb5da1",
   "metadata": {},
   "outputs": [],
   "source": [
    "weights = np.load('weightpath.npy')\n",
    "weights = weights.tolist()"
   ]
  },
  {
   "cell_type": "code",
   "execution_count": 10,
   "id": "a34e7e16",
   "metadata": {},
   "outputs": [],
   "source": [
    "train_subset = torch.utils.data.Subset(train_set, range(200)) \n",
    "test_subset =  torch.utils.data.Subset(test_set, range(20))\n",
    "\n",
    "train_tracin_loader = torch.utils.data.DataLoader(train_subset, batch_size=1, shuffle=False, num_workers=4)\n",
    "\n",
    "test_tracin_loader = torch.utils.data.DataLoader(test_subset, batch_size=1, shuffle=False, num_workers=4)"
   ]
  },
  {
   "cell_type": "code",
   "execution_count": 11,
   "id": "17115150",
   "metadata": {},
   "outputs": [],
   "source": [
    "def calculate_tracin_score(\n",
    "    model: torch.nn.Module,\n",
    "    weights_paths,\n",
    "    train_dataloader: torch.utils.data.DataLoader,\n",
    "    test_dataloader: torch.utils.data.DataLoader,\n",
    "    nu_for_each_epoch: None\n",
    "):\n",
    "        \n",
    "    LR = nu_for_each_epoch\n",
    "\n",
    "    score_matrix = np.zeros((len(train_dataloader), len(test_dataloader)))\n",
    "    \n",
    "    for train_id, (x_train, y_train) in enumerate(train_dataloader):\n",
    "        x_train, y_train = x_train.to(device), y_train.to(device)\n",
    "        # print(train_id)\n",
    "        print('TracIn:', round(train_id)/2, '%')\n",
    "        for test_id, (x_test, y_test) in enumerate(test_dataloader):\n",
    "            # print(test_id)\n",
    "            x_test, y_test = x_test.to(device), y_test.to(device)\n",
    "            grad_sum = 0\n",
    "            \n",
    "            for w in weights_paths:\n",
    "                model = ViT(image_size=28, patch_size=7, num_classes=10, channels=1,\n",
    "            dim=64, depth=6, heads=8, mlp_dim=128).to(device)\n",
    "                model.load_state_dict(torch.load(w)) # checkpoint\n",
    "                model.eval()\n",
    "                y_pred = model(x_train) # pred\n",
    "                y_pred = F.log_softmax(y_pred, dim=1)\n",
    "                loss = F.nll_loss(y_pred, y_train, reduction='sum')\n",
    "                loss.backward() # back\n",
    "                train_grad = torch.cat([param.grad.reshape(-1) for param in model.parameters()])\n",
    " \n",
    "                model = ViT(image_size=28, patch_size=7, num_classes=10, channels=1,\n",
    "            dim=64, depth=6, heads=8, mlp_dim=128).to(device)\n",
    "                model.load_state_dict(torch.load(w)) # checkpoint\n",
    "                model.eval()\n",
    "                y_pred = model(x_test) # pred\n",
    "                y_pred = F.log_softmax(y_pred, dim=1)\n",
    "                loss = F.nll_loss(y_pred, y_test, reduction='sum')\n",
    "                loss.backward() # back\n",
    "                test_grad = torch.cat([param.grad.reshape(-1) for param in model.parameters()])\n",
    "\n",
    "                train_grad, test_grad = train_grad.to('cpu'), test_grad.to('cpu')\n",
    "                grad_sum += LR * np.dot(train_grad, test_grad) # scalar mult, TracIn formula\n",
    "            \n",
    "            score_matrix[train_id][test_id] = grad_sum\n",
    "    \n",
    "    \n",
    "    return score_matrix"
   ]
  },
  {
   "cell_type": "code",
   "execution_count": 12,
   "id": "5f54beb0",
   "metadata": {},
   "outputs": [
    {
     "name": "stdout",
     "output_type": "stream",
     "text": [
      "TracIn: 0.0 %\n",
      "TracIn: 0.5 %\n",
      "TracIn: 1.0 %\n",
      "TracIn: 1.5 %\n",
      "TracIn: 2.0 %\n",
      "TracIn: 2.5 %\n",
      "TracIn: 3.0 %\n",
      "TracIn: 3.5 %\n",
      "TracIn: 4.0 %\n",
      "TracIn: 4.5 %\n",
      "TracIn: 5.0 %\n",
      "TracIn: 5.5 %\n",
      "TracIn: 6.0 %\n",
      "TracIn: 6.5 %\n",
      "TracIn: 7.0 %\n",
      "TracIn: 7.5 %\n",
      "TracIn: 8.0 %\n",
      "TracIn: 8.5 %\n",
      "TracIn: 9.0 %\n",
      "TracIn: 9.5 %\n",
      "TracIn: 10.0 %\n",
      "TracIn: 10.5 %\n",
      "TracIn: 11.0 %\n",
      "TracIn: 11.5 %\n",
      "TracIn: 12.0 %\n",
      "TracIn: 12.5 %\n",
      "TracIn: 13.0 %\n",
      "TracIn: 13.5 %\n",
      "TracIn: 14.0 %\n",
      "TracIn: 14.5 %\n",
      "TracIn: 15.0 %\n",
      "TracIn: 15.5 %\n",
      "TracIn: 16.0 %\n",
      "TracIn: 16.5 %\n",
      "TracIn: 17.0 %\n",
      "TracIn: 17.5 %\n",
      "TracIn: 18.0 %\n",
      "TracIn: 18.5 %\n",
      "TracIn: 19.0 %\n",
      "TracIn: 19.5 %\n",
      "TracIn: 20.0 %\n",
      "TracIn: 20.5 %\n",
      "TracIn: 21.0 %\n",
      "TracIn: 21.5 %\n",
      "TracIn: 22.0 %\n",
      "TracIn: 22.5 %\n",
      "TracIn: 23.0 %\n",
      "TracIn: 23.5 %\n",
      "TracIn: 24.0 %\n",
      "TracIn: 24.5 %\n",
      "TracIn: 25.0 %\n",
      "TracIn: 25.5 %\n",
      "TracIn: 26.0 %\n",
      "TracIn: 26.5 %\n",
      "TracIn: 27.0 %\n",
      "TracIn: 27.5 %\n",
      "TracIn: 28.0 %\n",
      "TracIn: 28.5 %\n",
      "TracIn: 29.0 %\n",
      "TracIn: 29.5 %\n",
      "TracIn: 30.0 %\n",
      "TracIn: 30.5 %\n",
      "TracIn: 31.0 %\n",
      "TracIn: 31.5 %\n",
      "TracIn: 32.0 %\n",
      "TracIn: 32.5 %\n",
      "TracIn: 33.0 %\n",
      "TracIn: 33.5 %\n",
      "TracIn: 34.0 %\n",
      "TracIn: 34.5 %\n",
      "TracIn: 35.0 %\n",
      "TracIn: 35.5 %\n",
      "TracIn: 36.0 %\n",
      "TracIn: 36.5 %\n",
      "TracIn: 37.0 %\n",
      "TracIn: 37.5 %\n",
      "TracIn: 38.0 %\n",
      "TracIn: 38.5 %\n",
      "TracIn: 39.0 %\n",
      "TracIn: 39.5 %\n",
      "TracIn: 40.0 %\n",
      "TracIn: 40.5 %\n",
      "TracIn: 41.0 %\n",
      "TracIn: 41.5 %\n",
      "TracIn: 42.0 %\n",
      "TracIn: 42.5 %\n",
      "TracIn: 43.0 %\n",
      "TracIn: 43.5 %\n",
      "TracIn: 44.0 %\n",
      "TracIn: 44.5 %\n",
      "TracIn: 45.0 %\n",
      "TracIn: 45.5 %\n",
      "TracIn: 46.0 %\n",
      "TracIn: 46.5 %\n",
      "TracIn: 47.0 %\n",
      "TracIn: 47.5 %\n",
      "TracIn: 48.0 %\n",
      "TracIn: 48.5 %\n",
      "TracIn: 49.0 %\n",
      "TracIn: 49.5 %\n",
      "TracIn: 50.0 %\n",
      "TracIn: 50.5 %\n",
      "TracIn: 51.0 %\n",
      "TracIn: 51.5 %\n",
      "TracIn: 52.0 %\n",
      "TracIn: 52.5 %\n",
      "TracIn: 53.0 %\n",
      "TracIn: 53.5 %\n",
      "TracIn: 54.0 %\n",
      "TracIn: 54.5 %\n",
      "TracIn: 55.0 %\n",
      "TracIn: 55.5 %\n",
      "TracIn: 56.0 %\n",
      "TracIn: 56.5 %\n",
      "TracIn: 57.0 %\n",
      "TracIn: 57.5 %\n",
      "TracIn: 58.0 %\n",
      "TracIn: 58.5 %\n",
      "TracIn: 59.0 %\n",
      "TracIn: 59.5 %\n",
      "TracIn: 60.0 %\n",
      "TracIn: 60.5 %\n",
      "TracIn: 61.0 %\n",
      "TracIn: 61.5 %\n",
      "TracIn: 62.0 %\n",
      "TracIn: 62.5 %\n",
      "TracIn: 63.0 %\n",
      "TracIn: 63.5 %\n",
      "TracIn: 64.0 %\n",
      "TracIn: 64.5 %\n",
      "TracIn: 65.0 %\n",
      "TracIn: 65.5 %\n",
      "TracIn: 66.0 %\n",
      "TracIn: 66.5 %\n",
      "TracIn: 67.0 %\n",
      "TracIn: 67.5 %\n",
      "TracIn: 68.0 %\n",
      "TracIn: 68.5 %\n",
      "TracIn: 69.0 %\n",
      "TracIn: 69.5 %\n",
      "TracIn: 70.0 %\n",
      "TracIn: 70.5 %\n",
      "TracIn: 71.0 %\n",
      "TracIn: 71.5 %\n",
      "TracIn: 72.0 %\n",
      "TracIn: 72.5 %\n",
      "TracIn: 73.0 %\n",
      "TracIn: 73.5 %\n",
      "TracIn: 74.0 %\n",
      "TracIn: 74.5 %\n",
      "TracIn: 75.0 %\n",
      "TracIn: 75.5 %\n",
      "TracIn: 76.0 %\n",
      "TracIn: 76.5 %\n",
      "TracIn: 77.0 %\n",
      "TracIn: 77.5 %\n",
      "TracIn: 78.0 %\n",
      "TracIn: 78.5 %\n",
      "TracIn: 79.0 %\n",
      "TracIn: 79.5 %\n",
      "TracIn: 80.0 %\n",
      "TracIn: 80.5 %\n",
      "TracIn: 81.0 %\n",
      "TracIn: 81.5 %\n",
      "TracIn: 82.0 %\n",
      "TracIn: 82.5 %\n",
      "TracIn: 83.0 %\n",
      "TracIn: 83.5 %\n",
      "TracIn: 84.0 %\n",
      "TracIn: 84.5 %\n",
      "TracIn: 85.0 %\n",
      "TracIn: 85.5 %\n",
      "TracIn: 86.0 %\n",
      "TracIn: 86.5 %\n",
      "TracIn: 87.0 %\n",
      "TracIn: 87.5 %\n",
      "TracIn: 88.0 %\n",
      "TracIn: 88.5 %\n",
      "TracIn: 89.0 %\n",
      "TracIn: 89.5 %\n",
      "TracIn: 90.0 %\n",
      "TracIn: 90.5 %\n",
      "TracIn: 91.0 %\n",
      "TracIn: 91.5 %\n",
      "TracIn: 92.0 %\n",
      "TracIn: 92.5 %\n",
      "TracIn: 93.0 %\n",
      "TracIn: 93.5 %\n",
      "TracIn: 94.0 %\n",
      "TracIn: 94.5 %\n",
      "TracIn: 95.0 %\n",
      "TracIn: 95.5 %\n",
      "TracIn: 96.0 %\n",
      "TracIn: 96.5 %\n",
      "TracIn: 97.0 %\n",
      "TracIn: 97.5 %\n",
      "TracIn: 98.0 %\n",
      "TracIn: 98.5 %\n",
      "TracIn: 99.0 %\n",
      "TracIn: 99.5 %\n"
     ]
    }
   ],
   "source": [
    "matrix = calculate_tracin_score(model=ViT(image_size=28, patch_size=7, num_classes=10, channels=1,\n",
    "            dim=64, depth=6, heads=8, mlp_dim=128), \n",
    "                       weights_paths=weights, \n",
    "                       train_dataloader=train_tracin_loader, test_dataloader=test_tracin_loader, nu_for_each_epoch=0.003)"
   ]
  },
  {
   "cell_type": "code",
   "execution_count": 13,
   "id": "5eb694ce",
   "metadata": {},
   "outputs": [],
   "source": [
    "np.save('tracinmatrix.npy', matrix)"
   ]
  },
  {
   "cell_type": "code",
   "execution_count": 14,
   "id": "7299671c",
   "metadata": {},
   "outputs": [],
   "source": [
    "def imshow(imgs):\n",
    "    fig = plt.figure(figsize=(8, 2))\n",
    "\n",
    "    fig.add_subplot(1, 3, 1)\n",
    "    plt.imshow(imgs[0], cmap='gray', interpolation='none') # train observation\n",
    "    fig.add_subplot(1, 3, 2)\n",
    "    plt.imshow(imgs[1], cmap='gray', interpolation='none') # highest TracIn on test\n",
    "    fig.add_subplot(1, 3, 3)\n",
    "    plt.imshow(imgs[2], cmap='gray', interpolation='none') # lowest TracIn on test\n",
    "    plt.show()"
   ]
  },
  {
   "cell_type": "code",
   "execution_count": 16,
   "id": "e857869a",
   "metadata": {},
   "outputs": [
    {
     "data": {
      "image/png": "[encoded data removed]",
      "text/plain": [
       "<Figure size 576x144 with 3 Axes>"
      ]
     },
     "metadata": {
      "needs_background": "light"
     },
     "output_type": "display_data"
    },
    {
     "name": "stdout",
     "output_type": "stream",
     "text": [
      "\t 5 \t\t 5 \t\t\t 3\n",
      "\n"
     ]
    },
    {
     "data": {
      "image/png": "[encoded data removed]",
      "text/plain": [
       "<Figure size 576x144 with 3 Axes>"
      ]
     },
     "metadata": {
      "needs_background": "light"
     },
     "output_type": "display_data"
    },
    {
     "name": "stdout",
     "output_type": "stream",
     "text": [
      "\t 0 \t\t 3 \t\t\t 6\n",
      "\n"
     ]
    },
    {
     "data": {
      "image/png": "[encoded data removed]",
      "text/plain": [
       "<Figure size 576x144 with 3 Axes>"
      ]
     },
     "metadata": {
      "needs_background": "light"
     },
     "output_type": "display_data"
    },
    {
     "name": "stdout",
     "output_type": "stream",
     "text": [
      "\t 4 \t\t 4 \t\t\t 9\n",
      "\n"
     ]
    },
    {
     "data": {
      "image/png": "[encoded data removed]",
      "text/plain": [
       "<Figure size 576x144 with 3 Axes>"
      ]
     },
     "metadata": {
      "needs_background": "light"
     },
     "output_type": "display_data"
    },
    {
     "name": "stdout",
     "output_type": "stream",
     "text": [
      "\t 1 \t\t 1 \t\t\t 9\n",
      "\n"
     ]
    },
    {
     "data": {
      "image/png": "[encoded data removed]",
      "text/plain": [
       "<Figure size 576x144 with 3 Axes>"
      ]
     },
     "metadata": {
      "needs_background": "light"
     },
     "output_type": "display_data"
    },
    {
     "name": "stdout",
     "output_type": "stream",
     "text": [
      "\t 9 \t\t 9 \t\t\t 3\n",
      "\n"
     ]
    },
    {
     "data": {
      "image/png": "[encoded data removed]",
      "text/plain": [
       "<Figure size 576x144 with 3 Axes>"
      ]
     },
     "metadata": {
      "needs_background": "light"
     },
     "output_type": "display_data"
    },
    {
     "name": "stdout",
     "output_type": "stream",
     "text": [
      "\t 2 \t\t 5 \t\t\t 9\n",
      "\n"
     ]
    },
    {
     "data": {
      "image/png": "[encoded data removed]",
      "text/plain": [
       "<Figure size 576x144 with 3 Axes>"
      ]
     },
     "metadata": {
      "needs_background": "light"
     },
     "output_type": "display_data"
    },
    {
     "name": "stdout",
     "output_type": "stream",
     "text": [
      "\t 1 \t\t 1 \t\t\t 9\n",
      "\n"
     ]
    },
    {
     "data": {
      "image/png": "[encoded data removed]",
      "text/plain": [
       "<Figure size 576x144 with 3 Axes>"
      ]
     },
     "metadata": {
      "needs_background": "light"
     },
     "output_type": "display_data"
    },
    {
     "name": "stdout",
     "output_type": "stream",
     "text": [
      "\t 3 \t\t 3 \t\t\t 5\n",
      "\n"
     ]
    },
    {
     "data": {
      "image/png": "[encoded data removed]",
      "text/plain": [
       "<Figure size 576x144 with 3 Axes>"
      ]
     },
     "metadata": {
      "needs_background": "light"
     },
     "output_type": "display_data"
    },
    {
     "name": "stdout",
     "output_type": "stream",
     "text": [
      "\t 1 \t\t 1 \t\t\t 9\n",
      "\n"
     ]
    },
    {
     "data": {
      "image/png": "[encoded data removed]",
      "text/plain": [
       "<Figure size 576x144 with 3 Axes>"
      ]
     },
     "metadata": {
      "needs_background": "light"
     },
     "output_type": "display_data"
    },
    {
     "name": "stdout",
     "output_type": "stream",
     "text": [
      "\t 4 \t\t 4 \t\t\t 9\n",
      "\n"
     ]
    },
    {
     "data": {
      "image/png": "[encoded data removed]",
      "text/plain": [
       "<Figure size 576x144 with 3 Axes>"
      ]
     },
     "metadata": {
      "needs_background": "light"
     },
     "output_type": "display_data"
    },
    {
     "name": "stdout",
     "output_type": "stream",
     "text": [
      "\t 3 \t\t 3 \t\t\t 9\n",
      "\n"
     ]
    }
   ],
   "source": [
    "for train_id, (x_train, y_train) in enumerate(train_tracin_loader):\n",
    "    row = matrix[train_id, :]\n",
    "    max_ind = row.argmax()\n",
    "    min_ind = row.argmin()\n",
    "    imshow([train_subset[train_id][0][0], test_subset[max_ind][0][0], test_subset[min_ind][0][0]])\n",
    "    print('\\t', train_subset[train_id][1], '\\t\\t', test_subset[max_ind][1], '\\t\\t\\t', test_subset[min_ind][1])\n",
    "    print()\n",
    "    if train_id > 9:\n",
    "      break\n",
    "\n",
    "# 图中每行第一个为训练样本，第二个和第三个分别为当前训练样本对所有测试样本求TracIn值的argmax和argmin"
   ]
  }
 ],
 "metadata": {
  "kernelspec": {
   "display_name": "Python 3",
   "language": "python",
   "name": "python3"
  },
  "language_info": {
   "codemirror_mode": {
    "name": "ipython",
    "version": 3
   },
   "file_extension": ".py",
   "mimetype": "text/x-python",
   "name": "python",
   "nbconvert_exporter": "python",
   "pygments_lexer": "ipython3",
   "version": "3.8.13"
  },
  "varInspector": {
   "cols": {
    "lenName": 16,
    "lenType": 16,
    "lenVar": 40
   },
   "kernels_config": {
    "python": {
     "delete_cmd_postfix": "",
     "delete_cmd_prefix": "del ",
     "library": "var_list.py",
     "varRefreshCmd": "print(var_dic_list())"
    },
    "r": {
     "delete_cmd_postfix": ") ",
     "delete_cmd_prefix": "rm(",
     "library": "var_list.r",
     "varRefreshCmd": "cat(var_dic_list()) "
    }
   },
   "types_to_exclude": [
    "module",
    "function",
    "builtin_function_or_method",
    "instance",
    "_Feature"
   ],
   "window_display": false
  }
 },
 "nbformat": 4,
 "nbformat_minor": 5
}
